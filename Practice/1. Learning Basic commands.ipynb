{
 "cells": [
  {
   "cell_type": "code",
   "execution_count": 0,
   "metadata": {
    "application/vnd.databricks.v1+cell": {
     "cellMetadata": {
      "byteLimit": 2048000,
      "rowLimit": 10000
     },
     "inputWidgets": {},
     "nuid": "ea2f8363-e93a-4a9e-940e-e7bfd094154d",
     "showTitle": false,
     "tableResultSettingsMap": {},
     "title": ""
    }
   },
   "outputs": [],
   "source": [
    "print (\"Myself Yash\")\n"
   ]
  },
  {
   "cell_type": "code",
   "execution_count": 0,
   "metadata": {
    "application/vnd.databricks.v1+cell": {
     "cellMetadata": {
      "byteLimit": 2048000,
      "rowLimit": 10000
     },
     "inputWidgets": {},
     "nuid": "3d29d511-c466-4be1-97b5-35b54054f3e7",
     "showTitle": false,
     "tableResultSettingsMap": {},
     "title": ""
    }
   },
   "outputs": [],
   "source": [
    "print (\"Basic file read\")\n",
    "df = (spark.read\n",
    "        .format(\"json\")\n",
    "        .option(\"inferSchema\",\"true\")\n",
    "        .load(\"file:/Workspace/Users/yashg6200@gmail.com/Streaming-query-udemy/InvoiceProducer/data/invoices.json\"))\n",
    "\n",
    "display(df)"
   ]
  },
  {
   "cell_type": "code",
   "execution_count": 0,
   "metadata": {
    "application/vnd.databricks.v1+cell": {
     "cellMetadata": {
      "byteLimit": 2048000,
      "rowLimit": 10000
     },
     "inputWidgets": {},
     "nuid": "270352c1-1eb6-463e-b614-e7072847d1e0",
     "showTitle": false,
     "tableResultSettingsMap": {},
     "title": ""
    }
   },
   "outputs": [],
   "source": [
    "%python\n",
    "%run \"./Functions/basic_functions\"\n",
    "\n",
    "dbutils.fs.ls(\"file:/Workspace/Users/yashg6200@gmail.com/Streaming-query-udemy/data_spark_streaming/datasets/text/text_data_1.txt\")\n",
    "#af = read_word_count(\"file:/Workspace/Users/yashg6200@gmail.com/Streaming-query-udemy/data_spark_streaming/datasets/text/text_data_1.txt\")\n",
    "#display(af)"
   ]
  },
  {
   "cell_type": "markdown",
   "metadata": {
    "application/vnd.databricks.v1+cell": {
     "cellMetadata": {
      "byteLimit": 2048000,
      "rowLimit": 10000
     },
     "inputWidgets": {},
     "nuid": "d022b9f8-a028-4c53-845b-7bafbb2dcbb2",
     "showTitle": false,
     "tableResultSettingsMap": {},
     "title": ""
    }
   },
   "source": [
    "###Reading The Data CSV and JSON"
   ]
  },
  {
   "cell_type": "code",
   "execution_count": 0,
   "metadata": {
    "application/vnd.databricks.v1+cell": {
     "cellMetadata": {
      "byteLimit": 2048000,
      "rowLimit": 10000
     },
     "inputWidgets": {},
     "nuid": "0f44ccfe-9123-4c0e-a8a4-9d3b1ecead17",
     "showTitle": false,
     "tableResultSettingsMap": {},
     "title": ""
    }
   },
   "outputs": [],
   "source": [
    "def read_csv(csv):\n",
    "    df_csv= (spark.read.format(\"csv\")\n",
    "                .option(\"header\",True)\n",
    "                .option(\"inferSchema\",True)\n",
    "                .load(csv))\n",
    "    return df_csv\n",
    "\n",
    "def read_json(json):\n",
    "    df_json= (spark.read.format(\"json\")\n",
    "                .option(\"header\",True)\n",
    "                .option(\"inferSchema\",True)\n",
    "                .option(\"multiLine\",True)\n",
    "                .load(json))\n",
    "    return df_json  "
   ]
  },
  {
   "cell_type": "code",
   "execution_count": 0,
   "metadata": {
    "application/vnd.databricks.v1+cell": {
     "cellMetadata": {
      "byteLimit": 2048000,
      "rowLimit": 10000
     },
     "inputWidgets": {},
     "nuid": "653c6e76-4a71-40ca-a106-d2fce31f57e0",
     "showTitle": false,
     "tableResultSettingsMap": {},
     "title": ""
    }
   },
   "outputs": [],
   "source": [
    "df_csv=read_csv(\"file:/Workspace/Users/yashg6200@gmail.com/Pyspark_learning/DATA and NOTEBOOK/BigMart Sales.csv\")\n",
    "df_json=read_json(\"file:/Workspace/Users/yashg6200@gmail.com/Pyspark_learning/DATA and NOTEBOOK/drivers.json\")\n",
    "\n",
    "df_csv.display()\n",
    "df_json.display()\n",
    "\n",
    "df_csv.printSchema()"
   ]
  },
  {
   "cell_type": "markdown",
   "metadata": {
    "application/vnd.databricks.v1+cell": {
     "cellMetadata": {
      "byteLimit": 2048000,
      "rowLimit": 10000
     },
     "inputWidgets": {},
     "nuid": "a0fb60d7-9113-4d72-8911-5c7eddb70d8b",
     "showTitle": false,
     "tableResultSettingsMap": {},
     "title": ""
    }
   },
   "source": [
    "## Playing with DDL and Struct type"
   ]
  },
  {
   "cell_type": "code",
   "execution_count": 0,
   "metadata": {
    "application/vnd.databricks.v1+cell": {
     "cellMetadata": {
      "byteLimit": 2048000,
      "rowLimit": 10000
     },
     "inputWidgets": {},
     "nuid": "f1158320-9c40-4c8b-9351-146cc8a1ae64",
     "showTitle": false,
     "tableResultSettingsMap": {},
     "title": ""
    }
   },
   "outputs": [],
   "source": [
    "def schema_change(new_schema):\n",
    "    df_csv=(spark.read.format(\"csv\")\n",
    "                .option(\"header\",True)\n",
    "                .schema(new_schema)\n",
    "                .load(\"file:/Workspace/Users/yashg6200@gmail.com/Pyspark_learning/DATA and NOTEBOOK/BigMart Sales.csv\"))\n",
    "    return df_csv\n",
    "\n"
   ]
  },
  {
   "cell_type": "code",
   "execution_count": 0,
   "metadata": {
    "application/vnd.databricks.v1+cell": {
     "cellMetadata": {
      "byteLimit": 2048000,
      "rowLimit": 10000
     },
     "inputWidgets": {},
     "nuid": "e0e6e69b-4e59-428c-8fcd-948582f37eff",
     "showTitle": false,
     "tableResultSettingsMap": {},
     "title": ""
    }
   },
   "outputs": [],
   "source": [
    "from pyspark.sql.functions import *\n",
    "from pyspark.sql.types import *\n",
    "\n",
    "ddl_type= '''\n",
    "                Item_Identifier STRING,\n",
    "                Item_Weight STRING,\n",
    "                Item_Fat_Content STRING, \n",
    "                Item_Visibility DOUBLE,\n",
    "                Item_Type INT,\n",
    "                Item_MRP DOUBLE,\n",
    "                Outlet_Identifier STRING,\n",
    "                Outlet_Establishment_Year INT,\n",
    "                Outlet_Size STRING,\n",
    "                Outlet_Location_Type STRING, \n",
    "                Outlet_Type STRING,\n",
    "                Item_Outlet_Sales DOUBLE \n",
    "            '''\n",
    "\n",
    "ddl_csv=schema_change(ddl_type)\n",
    "ddl_csv.display()\n",
    "ddl_csv.printSchema()\n",
    "\n",
    "                                \n"
   ]
  },
  {
   "cell_type": "code",
   "execution_count": 0,
   "metadata": {
    "application/vnd.databricks.v1+cell": {
     "cellMetadata": {
      "byteLimit": 2048000,
      "rowLimit": 10000
     },
     "inputWidgets": {},
     "nuid": "b3223a2a-0991-44cd-8474-6933df260435",
     "showTitle": false,
     "tableResultSettingsMap": {},
     "title": ""
    }
   },
   "outputs": [],
   "source": [
    "\n",
    "struct_schema = StructType([\n",
    "                                StructField('Item_Identifier',StringType(),True),\n",
    "                                StructField('Item_Weight',IntegerType(),True),\n",
    "                                StructField('Item_Fat_Content',StringType(),True),\n",
    "                                StructField('Item_Visibility',StringType(),True),\n",
    "                                StructField('Item_MRP',StringType(),True),\n",
    "                                StructField('Outlet_Identifier',StringType(),True),\n",
    "                                StructField('Outlet_Establishment_Year',StringType(),True),\n",
    "                                StructField('Outlet_Size',StringType(),True),\n",
    "                                StructField('Outlet_Location_Type',StringType(),True),\n",
    "                                StructField('Outlet_Type',StringType(),True),\n",
    "                                StructField('Item_Outlet_Sales',StringType(),True)\n",
    "                            ])\n",
    "ddl_struct=schema_change(struct_schema)\n",
    "ddl_struct.display()\n",
    "ddl_struct.printSchema()\n",
    "                                "
   ]
  },
  {
   "cell_type": "markdown",
   "metadata": {
    "application/vnd.databricks.v1+cell": {
     "cellMetadata": {
      "byteLimit": 2048000,
      "rowLimit": 10000
     },
     "inputWidgets": {},
     "nuid": "ab972bf4-2109-42b2-8395-d80e8579f550",
     "showTitle": false,
     "tableResultSettingsMap": {},
     "title": ""
    }
   },
   "source": [
    "##Transformation "
   ]
  },
  {
   "cell_type": "markdown",
   "metadata": {
    "application/vnd.databricks.v1+cell": {
     "cellMetadata": {
      "byteLimit": 2048000,
      "rowLimit": 10000
     },
     "inputWidgets": {},
     "nuid": "9fe09717-6652-4c46-a693-0e19e5b2ddf6",
     "showTitle": false,
     "tableResultSettingsMap": {},
     "title": ""
    }
   },
   "source": [
    "####SELECT"
   ]
  },
  {
   "cell_type": "code",
   "execution_count": 0,
   "metadata": {
    "application/vnd.databricks.v1+cell": {
     "cellMetadata": {
      "byteLimit": 2048000,
      "rowLimit": 10000
     },
     "inputWidgets": {},
     "nuid": "879070a9-d5e3-4684-8d8f-8d02fb81ffee",
     "showTitle": false,
     "tableResultSettingsMap": {},
     "title": ""
    }
   },
   "outputs": [],
   "source": [
    "df_select=read_csv(\"file:/Workspace/Users/yashg6200@gmail.com/Pyspark_learning/DATA and NOTEBOOK/BigMart Sales.csv\").select(col(\"Item_Identifier\"),col(\"Item_Weight\"),col(\"Item_Fat_Content\"))\n",
    "df_select.printSchema()\n",
    "df_select.display()\n"
   ]
  },
  {
   "cell_type": "markdown",
   "metadata": {
    "application/vnd.databricks.v1+cell": {
     "cellMetadata": {
      "byteLimit": 2048000,
      "rowLimit": 10000
     },
     "inputWidgets": {},
     "nuid": "8075f10f-54d4-4ef7-ba48-e74a2659494b",
     "showTitle": false,
     "tableResultSettingsMap": {},
     "title": ""
    }
   },
   "source": [
    "###ALIAS "
   ]
  },
  {
   "cell_type": "code",
   "execution_count": 0,
   "metadata": {
    "application/vnd.databricks.v1+cell": {
     "cellMetadata": {
      "byteLimit": 2048000,
      "rowLimit": 10000
     },
     "inputWidgets": {},
     "nuid": "a12f8a54-2b14-4dd2-a17f-c58ee497f690",
     "showTitle": false,
     "tableResultSettingsMap": {},
     "title": ""
    }
   },
   "outputs": [],
   "source": [
    "df_alias=read_csv(\"file:/Workspace/Users/yashg6200@gmail.com/Pyspark_learning/DATA and NOTEBOOK/BigMart Sales.csv\").select(col(\"Item_Identifier\").alias(\"Item_id\"),col(\"Item_Weight\").alias(\"Weight\"),col(\"Item_Fat_Content\").alias(\"Fat_Content\"))\n",
    "df_alias.printSchema()\n",
    "df_alias.display()\n"
   ]
  },
  {
   "cell_type": "markdown",
   "metadata": {
    "application/vnd.databricks.v1+cell": {
     "cellMetadata": {
      "byteLimit": 2048000,
      "rowLimit": 10000
     },
     "inputWidgets": {},
     "nuid": "98df7451-fd1a-4c11-a97f-43e9ed433ced",
     "showTitle": false,
     "tableResultSettingsMap": {},
     "title": ""
    }
   },
   "source": [
    "###FILTER"
   ]
  },
  {
   "cell_type": "markdown",
   "metadata": {
    "application/vnd.databricks.v1+cell": {
     "cellMetadata": {
      "byteLimit": 2048000,
      "rowLimit": 10000
     },
     "inputWidgets": {},
     "nuid": "dcec4471-2a33-4788-ad83-d5d4aa5a9ed9",
     "showTitle": false,
     "tableResultSettingsMap": {},
     "title": ""
    }
   },
   "source": [
    "####Scenario 1 : Simple Filter"
   ]
  },
  {
   "cell_type": "code",
   "execution_count": 0,
   "metadata": {
    "application/vnd.databricks.v1+cell": {
     "cellMetadata": {
      "byteLimit": 2048000,
      "rowLimit": 10000
     },
     "inputWidgets": {},
     "nuid": "44c6969f-d4f0-45d4-889f-096ca5b82146",
     "showTitle": false,
     "tableResultSettingsMap": {},
     "title": ""
    }
   },
   "outputs": [],
   "source": [
    "df_csv_data=read_csv(\"file:/Workspace/Users/yashg6200@gmail.com/Pyspark_learning/DATA and NOTEBOOK/BigMart Sales.csv\")\n",
    "#df_csv_data.display()\n",
    "\n",
    "df_csv_data.filter(col(\"Item_Fat_Content\")==\"Regular\").display()\n",
    "\n"
   ]
  },
  {
   "cell_type": "markdown",
   "metadata": {
    "application/vnd.databricks.v1+cell": {
     "cellMetadata": {
      "byteLimit": 2048000,
      "rowLimit": 10000
     },
     "inputWidgets": {},
     "nuid": "2df58285-bca6-4070-a679-8573119fa449",
     "showTitle": false,
     "tableResultSettingsMap": {},
     "title": ""
    }
   },
   "source": [
    "####Scneario 2  : AND Clause"
   ]
  },
  {
   "cell_type": "code",
   "execution_count": 0,
   "metadata": {
    "application/vnd.databricks.v1+cell": {
     "cellMetadata": {
      "byteLimit": 2048000,
      "rowLimit": 10000
     },
     "inputWidgets": {},
     "nuid": "0a2c1348-1394-4a16-8f3c-146d0c37fbb8",
     "showTitle": false,
     "tableResultSettingsMap": {},
     "title": ""
    }
   },
   "outputs": [],
   "source": [
    "df_csv_data.filter( (col('Item_type')== \"Soft Drinks\") & (col('Item_Weight') <= 6 )).display()"
   ]
  },
  {
   "cell_type": "markdown",
   "metadata": {
    "application/vnd.databricks.v1+cell": {
     "cellMetadata": {
      "byteLimit": 2048000,
      "rowLimit": 10000
     },
     "inputWidgets": {},
     "nuid": "7c441a18-d8e2-4015-9e11-06a664a2f019",
     "showTitle": false,
     "tableResultSettingsMap": {},
     "title": ""
    }
   },
   "source": [
    "####Scenario 3 : isin() and isNotNull() or isNull()"
   ]
  },
  {
   "cell_type": "code",
   "execution_count": 0,
   "metadata": {
    "application/vnd.databricks.v1+cell": {
     "cellMetadata": {
      "byteLimit": 2048000,
      "rowLimit": 10000
     },
     "inputWidgets": {},
     "nuid": "c14c6cfc-55dd-4164-a484-ccaac00381e4",
     "showTitle": false,
     "tableResultSettingsMap": {},
     "title": ""
    }
   },
   "outputs": [],
   "source": [
    "df_csv_data.filter((col(\"Outlet_Location_Type\").isin(\"Tier 1\",\"Tier 2\")) |\n",
    "                    (col(\"Outlet_Size\").isNotNull())).display()"
   ]
  },
  {
   "cell_type": "markdown",
   "metadata": {
    "application/vnd.databricks.v1+cell": {
     "cellMetadata": {
      "byteLimit": 2048000,
      "rowLimit": 10000
     },
     "inputWidgets": {},
     "nuid": "782e75ad-1c5c-4a2d-a667-0953a61c37c1",
     "showTitle": false,
     "tableResultSettingsMap": {},
     "title": ""
    }
   },
   "source": [
    "###withColumnRenamed"
   ]
  },
  {
   "cell_type": "code",
   "execution_count": 0,
   "metadata": {
    "application/vnd.databricks.v1+cell": {
     "cellMetadata": {
      "byteLimit": 2048000,
      "rowLimit": 10000
     },
     "inputWidgets": {},
     "nuid": "2f4018b6-f624-44bd-97c8-6c3692970946",
     "showTitle": false,
     "tableResultSettingsMap": {},
     "title": ""
    }
   },
   "outputs": [],
   "source": [
    "\n",
    "df_csv_data.withColumnRenamed(\"Item_Identifier\",\"Item_id\").display()"
   ]
  },
  {
   "cell_type": "markdown",
   "metadata": {
    "application/vnd.databricks.v1+cell": {
     "cellMetadata": {
      "byteLimit": 2048000,
      "rowLimit": 10000
     },
     "inputWidgets": {},
     "nuid": "4f511bb1-0697-48f2-a3b0-b4d7243e7c9a",
     "showTitle": false,
     "tableResultSettingsMap": {},
     "title": ""
    }
   },
   "source": [
    "####withColumn"
   ]
  },
  {
   "cell_type": "markdown",
   "metadata": {
    "application/vnd.databricks.v1+cell": {
     "cellMetadata": {
      "byteLimit": 2048000,
      "rowLimit": 10000
     },
     "inputWidgets": {},
     "nuid": "d01f6494-3bad-4c0d-b87c-ec0964b1fa04",
     "showTitle": false,
     "tableResultSettingsMap": {},
     "title": ""
    }
   },
   "source": [
    "####Constant Value with Scneario 1 to add new Column"
   ]
  },
  {
   "cell_type": "code",
   "execution_count": 0,
   "metadata": {
    "application/vnd.databricks.v1+cell": {
     "cellMetadata": {
      "byteLimit": 2048000,
      "rowLimit": 10000
     },
     "inputWidgets": {},
     "nuid": "50332a95-252d-4a4e-9a1b-94e5c5c57a16",
     "showTitle": false,
     "tableResultSettingsMap": {},
     "title": ""
    }
   },
   "outputs": [],
   "source": [
    "df_csv_data.withColumn(\"NEW\",lit(\"This is a new column\")).display()\n"
   ]
  },
  {
   "cell_type": "markdown",
   "metadata": {
    "application/vnd.databricks.v1+cell": {
     "cellMetadata": {
      "byteLimit": 2048000,
      "rowLimit": 10000
     },
     "inputWidgets": {},
     "nuid": "1911d806-c775-4dff-a988-16ef3b427f29",
     "showTitle": false,
     "tableResultSettingsMap": {},
     "title": ""
    }
   },
   "source": [
    "#### New column with expression"
   ]
  },
  {
   "cell_type": "code",
   "execution_count": 0,
   "metadata": {
    "application/vnd.databricks.v1+cell": {
     "cellMetadata": {
      "byteLimit": 2048000,
      "rowLimit": 10000
     },
     "inputWidgets": {},
     "nuid": "e423092b-2500-4d48-8f3b-ee6a6ddc8dd3",
     "showTitle": false,
     "tableResultSettingsMap": {},
     "title": ""
    }
   },
   "outputs": [],
   "source": [
    "df_csv_data.withColumn(\"Multiply\",expr(\"Item_Weight * 10\")).display()"
   ]
  },
  {
   "cell_type": "markdown",
   "metadata": {
    "application/vnd.databricks.v1+cell": {
     "cellMetadata": {
      "byteLimit": 2048000,
      "rowLimit": 10000
     },
     "inputWidgets": {},
     "nuid": "6961a8d1-5734-4c20-9e4d-ae273481e8ea",
     "showTitle": false,
     "tableResultSettingsMap": {},
     "title": ""
    }
   },
   "source": [
    "### Update Existing Column with when().otherwise()"
   ]
  },
  {
   "cell_type": "code",
   "execution_count": 0,
   "metadata": {
    "application/vnd.databricks.v1+cell": {
     "cellMetadata": {
      "byteLimit": 2048000,
      "rowLimit": 10000
     },
     "inputWidgets": {},
     "nuid": "a32c5a38-47cb-4884-8678-bd78b9f13ddf",
     "showTitle": false,
     "tableResultSettingsMap": {},
     "title": ""
    }
   },
   "outputs": [],
   "source": [
    "df_csv_data.withColumn(\"Item_Fat_Content\",when(col(\"Item_Fat_Content\")==\"Regular\",\"reg\").otherwise(\"Non-reg\")).display()"
   ]
  },
  {
   "cell_type": "code",
   "execution_count": 0,
   "metadata": {
    "application/vnd.databricks.v1+cell": {
     "cellMetadata": {
      "byteLimit": 2048000,
      "rowLimit": 10000
     },
     "inputWidgets": {},
     "nuid": "effee992-91cc-4113-8398-d348c7c9fe3f",
     "showTitle": false,
     "tableResultSettingsMap": {},
     "title": ""
    }
   },
   "outputs": [],
   "source": [
    "df_csv_data.withColumn(\"Item_Fat_Content\",regexp_replace(col(\"Item_Fat_Content\"),\"Regular\",\"Reg\")) \\\n",
    "            .withColumn(\"Item_Fat_Content\",regexp_replace(col(\"Item_Fat_Content\"),\"Low Fat\",\"LF\")).display()"
   ]
  },
  {
   "cell_type": "markdown",
   "metadata": {
    "application/vnd.databricks.v1+cell": {
     "cellMetadata": {
      "byteLimit": 2048000,
      "rowLimit": 10000
     },
     "inputWidgets": {},
     "nuid": "7de1337f-ca3f-4120-8adc-331a11026103",
     "showTitle": false,
     "tableResultSettingsMap": {},
     "title": ""
    }
   },
   "source": [
    "####TYPE CASTING "
   ]
  },
  {
   "cell_type": "code",
   "execution_count": 0,
   "metadata": {
    "application/vnd.databricks.v1+cell": {
     "cellMetadata": {
      "byteLimit": 2048000,
      "rowLimit": 10000
     },
     "inputWidgets": {},
     "nuid": "eb2d017d-2a5b-43d9-8c3b-f8b5670178af",
     "showTitle": false,
     "tableResultSettingsMap": {},
     "title": ""
    }
   },
   "outputs": [],
   "source": [
    "df_csv_data.withColumn(\"Item_Weight\",col(\"Item_Weight\").cast(StringType())).display()"
   ]
  },
  {
   "cell_type": "markdown",
   "metadata": {
    "application/vnd.databricks.v1+cell": {
     "cellMetadata": {
      "byteLimit": 2048000,
      "rowLimit": 10000
     },
     "inputWidgets": {},
     "nuid": "085259d0-e39c-4ad2-b8d8-5802b3676a7f",
     "showTitle": false,
     "tableResultSettingsMap": {},
     "title": ""
    }
   },
   "source": [
    "####SORT/ORDER BY"
   ]
  },
  {
   "cell_type": "markdown",
   "metadata": {
    "application/vnd.databricks.v1+cell": {
     "cellMetadata": {
      "byteLimit": 2048000,
      "rowLimit": 10000
     },
     "inputWidgets": {},
     "nuid": "248293e1-170e-4f4f-8d63-632f47b7980c",
     "showTitle": false,
     "tableResultSettingsMap": {},
     "title": ""
    }
   },
   "source": [
    "####Scenario 1 "
   ]
  },
  {
   "cell_type": "code",
   "execution_count": 0,
   "metadata": {
    "application/vnd.databricks.v1+cell": {
     "cellMetadata": {
      "byteLimit": 2048000,
      "rowLimit": 10000
     },
     "inputWidgets": {},
     "nuid": "91cbf8d8-cf07-4c00-8141-ad1c7c4f9b38",
     "showTitle": false,
     "tableResultSettingsMap": {},
     "title": ""
    }
   },
   "outputs": [],
   "source": [
    "df_csv_data.sort(col(\"Item_Weight\").desc()).display()"
   ]
  },
  {
   "cell_type": "markdown",
   "metadata": {
    "application/vnd.databricks.v1+cell": {
     "cellMetadata": {
      "byteLimit": 2048000,
      "rowLimit": 10000
     },
     "inputWidgets": {},
     "nuid": "4384d0d3-0f94-4cf8-9f60-2a802de8f5eb",
     "showTitle": false,
     "tableResultSettingsMap": {},
     "title": ""
    }
   },
   "source": [
    "### Scenario 2 "
   ]
  },
  {
   "cell_type": "code",
   "execution_count": 0,
   "metadata": {
    "application/vnd.databricks.v1+cell": {
     "cellMetadata": {
      "byteLimit": 2048000,
      "rowLimit": 10000
     },
     "inputWidgets": {},
     "nuid": "8fb0b84e-ba91-4c77-b6f9-fe3f89037334",
     "showTitle": false,
     "tableResultSettingsMap": {},
     "title": ""
    }
   },
   "outputs": [],
   "source": [
    "df_csv_data.sort(col(\"Item_Visibility\").asc()).display()"
   ]
  },
  {
   "cell_type": "markdown",
   "metadata": {
    "application/vnd.databricks.v1+cell": {
     "cellMetadata": {
      "byteLimit": 2048000,
      "rowLimit": 10000
     },
     "inputWidgets": {},
     "nuid": "87a35ece-a244-49fd-9de1-ce97d73e8d8e",
     "showTitle": false,
     "tableResultSettingsMap": {},
     "title": ""
    }
   },
   "source": [
    "###Scenario 3 "
   ]
  },
  {
   "cell_type": "code",
   "execution_count": 0,
   "metadata": {
    "application/vnd.databricks.v1+cell": {
     "cellMetadata": {
      "byteLimit": 2048000,
      "rowLimit": 10000
     },
     "inputWidgets": {},
     "nuid": "28a6a467-cd8e-4061-8b80-7d02670942f4",
     "showTitle": false,
     "tableResultSettingsMap": {},
     "title": ""
    }
   },
   "outputs": [],
   "source": [
    "df_csv_data.sort(col(\"Item_Visibility\").asc(),col(\"Item_Weight\").asc()).display()\n",
    "\n",
    "df_csv_data.sort([\"Item_Visibility\",\"Item_Weight\"],ascending = [0,0]).display()"
   ]
  },
  {
   "cell_type": "markdown",
   "metadata": {
    "application/vnd.databricks.v1+cell": {
     "cellMetadata": {
      "byteLimit": 2048000,
      "rowLimit": 10000
     },
     "inputWidgets": {},
     "nuid": "492a6555-482e-48e0-b5d8-f1177cf3348d",
     "showTitle": false,
     "tableResultSettingsMap": {},
     "title": ""
    }
   },
   "source": [
    "#### LIMIT "
   ]
  },
  {
   "cell_type": "code",
   "execution_count": 0,
   "metadata": {
    "application/vnd.databricks.v1+cell": {
     "cellMetadata": {
      "byteLimit": 2048000,
      "rowLimit": 10000
     },
     "inputWidgets": {},
     "nuid": "2b2f04f6-6635-463e-9250-013f9657f4df",
     "showTitle": false,
     "tableResultSettingsMap": {},
     "title": ""
    }
   },
   "outputs": [],
   "source": [
    "df_csv_data.limit(10).display()"
   ]
  },
  {
   "cell_type": "markdown",
   "metadata": {
    "application/vnd.databricks.v1+cell": {
     "cellMetadata": {
      "byteLimit": 2048000,
      "rowLimit": 10000
     },
     "inputWidgets": {},
     "nuid": "37c61b05-dc73-4724-a4ed-aacb342ae8b1",
     "showTitle": false,
     "tableResultSettingsMap": {},
     "title": ""
    }
   },
   "source": [
    "###DROP"
   ]
  },
  {
   "cell_type": "code",
   "execution_count": 0,
   "metadata": {
    "application/vnd.databricks.v1+cell": {
     "cellMetadata": {
      "byteLimit": 2048000,
      "rowLimit": 10000
     },
     "inputWidgets": {},
     "nuid": "f45e27fe-b972-4ece-8705-ff538492c3db",
     "showTitle": false,
     "tableResultSettingsMap": {},
     "title": ""
    }
   },
   "outputs": [],
   "source": [
    "df_csv_data.drop(\"Item_Weight\",\"Item_Identifier\").display()\n",
    "\n",
    "df_csv_data.drop(\"Item_Weight\").display()"
   ]
  },
  {
   "cell_type": "markdown",
   "metadata": {
    "application/vnd.databricks.v1+cell": {
     "cellMetadata": {
      "byteLimit": 2048000,
      "rowLimit": 10000
     },
     "inputWidgets": {},
     "nuid": "841a9ae9-4c0d-4fcf-b8bd-079a7ec59ce2",
     "showTitle": false,
     "tableResultSettingsMap": {},
     "title": ""
    }
   },
   "source": [
    "###DropDuplicates"
   ]
  },
  {
   "cell_type": "markdown",
   "metadata": {
    "application/vnd.databricks.v1+cell": {
     "cellMetadata": {
      "byteLimit": 2048000,
      "rowLimit": 10000
     },
     "inputWidgets": {},
     "nuid": "006f820d-35e8-432f-86db-597f6eeb6558",
     "showTitle": false,
     "tableResultSettingsMap": {},
     "title": ""
    }
   },
   "source": [
    "###Scenario 1 Drops duplicates from all the columns "
   ]
  },
  {
   "cell_type": "code",
   "execution_count": 0,
   "metadata": {
    "application/vnd.databricks.v1+cell": {
     "cellMetadata": {
      "byteLimit": 2048000,
      "rowLimit": 10000
     },
     "inputWidgets": {},
     "nuid": "306fc4fb-384e-4ce8-b4a5-25297d274b22",
     "showTitle": false,
     "tableResultSettingsMap": {},
     "title": ""
    }
   },
   "outputs": [],
   "source": [
    "df_csv_data.dropDuplicates().display()\n",
    "\n",
    "#df_csv_data.dropDuplicates().display()"
   ]
  },
  {
   "cell_type": "markdown",
   "metadata": {
    "application/vnd.databricks.v1+cell": {
     "cellMetadata": {
      "byteLimit": 2048000,
      "rowLimit": 10000
     },
     "inputWidgets": {},
     "nuid": "cb568eea-f1a1-4b1c-b63b-9431e947e4ab",
     "showTitle": false,
     "tableResultSettingsMap": {},
     "title": ""
    }
   },
   "source": [
    "###Seenario 2 Drop dupes from specific columns"
   ]
  },
  {
   "cell_type": "code",
   "execution_count": 0,
   "metadata": {
    "application/vnd.databricks.v1+cell": {
     "cellMetadata": {
      "byteLimit": 2048000,
      "rowLimit": 10000
     },
     "inputWidgets": {},
     "nuid": "97c412cb-d133-4ac4-b91c-764f4e00436e",
     "showTitle": false,
     "tableResultSettingsMap": {},
     "title": ""
    }
   },
   "outputs": [],
   "source": [
    "df_csv_data.sort(col(\"Item_Fat_Content\").asc()).display()\n",
    "df_csv_data.sort(col(\"Item_Fat_Content\").asc()).dropDuplicates([\"Item_Fat_Content\"]).display()\n",
    "\n"
   ]
  },
  {
   "cell_type": "markdown",
   "metadata": {
    "application/vnd.databricks.v1+cell": {
     "cellMetadata": {
      "byteLimit": 2048000,
      "rowLimit": 10000
     },
     "inputWidgets": {},
     "nuid": "7f8a9927-222e-45e7-b90c-350df9602b87",
     "showTitle": false,
     "tableResultSettingsMap": {},
     "title": ""
    }
   },
   "source": [
    "###DISTINCT "
   ]
  },
  {
   "cell_type": "code",
   "execution_count": 0,
   "metadata": {
    "application/vnd.databricks.v1+cell": {
     "cellMetadata": {
      "byteLimit": 2048000,
      "rowLimit": 10000
     },
     "inputWidgets": {},
     "nuid": "b9ff5d3b-bc37-462d-8217-3265f1f33a6a",
     "showTitle": false,
     "tableResultSettingsMap": {},
     "title": ""
    }
   },
   "outputs": [],
   "source": [
    "df_csv_data.distinct().display()\n"
   ]
  },
  {
   "cell_type": "markdown",
   "metadata": {
    "application/vnd.databricks.v1+cell": {
     "cellMetadata": {
      "byteLimit": 2048000,
      "rowLimit": 10000
     },
     "inputWidgets": {},
     "nuid": "6713945b-70ed-4e02-8c62-6e7811bd8b6c",
     "showTitle": false,
     "tableResultSettingsMap": {},
     "title": ""
    }
   },
   "source": [
    "###UNION"
   ]
  },
  {
   "cell_type": "code",
   "execution_count": 0,
   "metadata": {
    "application/vnd.databricks.v1+cell": {
     "cellMetadata": {
      "byteLimit": 2048000,
      "rowLimit": 10000
     },
     "inputWidgets": {},
     "nuid": "280b488e-7d07-495c-9d66-bad49d933fc3",
     "showTitle": false,
     "tableResultSettingsMap": {},
     "title": ""
    }
   },
   "outputs": [],
   "source": [
    "data1=[(1,'Sid'),(2,'Ram')]\n",
    "schema1='id String,Name String'\n",
    "\n",
    "df1=spark.createDataFrame(data1,schema1)\n",
    "\n",
    "data2=[(1,'Sid'),(3,'Jay'),(4,'Veeru')]\n",
    "schema2='id String,Name String'\n",
    "df2=spark.createDataFrame(data2,schema2)\n",
    "\n",
    "df2.union(df1).distinct().sort(col(\"id\")).display()\n",
    "df2.union(df1).display()"
   ]
  },
  {
   "cell_type": "code",
   "execution_count": 0,
   "metadata": {
    "application/vnd.databricks.v1+cell": {
     "cellMetadata": {
      "byteLimit": 2048000,
      "rowLimit": 10000
     },
     "inputWidgets": {},
     "nuid": "35f79773-7015-41c8-9a99-68b265df2865",
     "showTitle": false,
     "tableResultSettingsMap": {},
     "title": ""
    }
   },
   "outputs": [],
   "source": [
    "data3=[('SId',7),('Jay',6)]\n",
    "schema3='Name String,id String'\n",
    "\n",
    "df3=spark.createDataFrame(data3,schema3)\n",
    "\n",
    "df3.union(df1).display() # -------------- NOTE THIS GIVES INCORRECT DATA\n",
    "df3.unionByName(df1).display()"
   ]
  },
  {
   "cell_type": "markdown",
   "metadata": {
    "application/vnd.databricks.v1+cell": {
     "cellMetadata": {
      "byteLimit": 2048000,
      "rowLimit": 10000
     },
     "inputWidgets": {},
     "nuid": "143a7a44-4ddc-4e78-a6b9-e1e268ca1dd5",
     "showTitle": false,
     "tableResultSettingsMap": {},
     "title": ""
    }
   },
   "source": [
    "##STRING FUNCTION"
   ]
  },
  {
   "cell_type": "markdown",
   "metadata": {
    "application/vnd.databricks.v1+cell": {
     "cellMetadata": {
      "byteLimit": 2048000,
      "rowLimit": 10000
     },
     "inputWidgets": {},
     "nuid": "f320bd3c-c86c-4756-8a73-d7d5a62d095b",
     "showTitle": false,
     "tableResultSettingsMap": {},
     "title": ""
    }
   },
   "source": [
    "###INITCAP & LOWER & UPPER"
   ]
  },
  {
   "cell_type": "code",
   "execution_count": 0,
   "metadata": {
    "application/vnd.databricks.v1+cell": {
     "cellMetadata": {
      "byteLimit": 2048000,
      "rowLimit": 10000
     },
     "inputWidgets": {},
     "nuid": "3bc42e03-e2f8-4a2e-bf09-81d8710e3fbe",
     "showTitle": false,
     "tableResultSettingsMap": {},
     "title": ""
    }
   },
   "outputs": [],
   "source": [
    "df_string_data=df_csv_data.select(\"Item_Type\",\"Item_Fat_Content\",\"Item_Weight\")\n",
    "\n",
    "df_string_data.withColumn(\"INITCAP\",initcap(col(\"Item_Type\")))  \\\n",
    "              .withColumn(\"LOWER CASE\",lower(col(\"Item_Type\")))  \\\n",
    "                .withColumn(\"Upper Case\",upper(col(\"Item_Type\"))).drop(\"Item_Type\").display()"
   ]
  },
  {
   "cell_type": "markdown",
   "metadata": {
    "application/vnd.databricks.v1+cell": {
     "cellMetadata": {
      "byteLimit": 2048000,
      "rowLimit": 10000
     },
     "inputWidgets": {},
     "nuid": "943d6c56-22af-4187-9b9a-6282bb408e18",
     "showTitle": false,
     "tableResultSettingsMap": {},
     "title": ""
    }
   },
   "source": [
    "##DATE FUNCTIONS "
   ]
  },
  {
   "cell_type": "markdown",
   "metadata": {
    "application/vnd.databricks.v1+cell": {
     "cellMetadata": {
      "byteLimit": 2048000,
      "rowLimit": 10000
     },
     "inputWidgets": {},
     "nuid": "5eeaddec-2a71-4dd5-951a-3394474c6322",
     "showTitle": false,
     "tableResultSettingsMap": {},
     "title": ""
    }
   },
   "source": [
    "###CURRENT_DATE()\n",
    "###DATE_DIFF()\n",
    "###DATE_ADD()\n",
    "###DATE_SUB()\n",
    "###DATE_FORMAT()"
   ]
  },
  {
   "cell_type": "code",
   "execution_count": 0,
   "metadata": {
    "application/vnd.databricks.v1+cell": {
     "cellMetadata": {
      "byteLimit": 2048000,
      "rowLimit": 10000
     },
     "inputWidgets": {},
     "nuid": "cb2a5bf0-9a6a-4ce5-aad8-be461a08418e",
     "showTitle": false,
     "tableResultSettingsMap": {},
     "title": ""
    }
   },
   "outputs": [],
   "source": [
    "df_string_data.withColumn(\"Current_Date\",current_date()) \\\n",
    "        .withColumn(\"Week After\",date_add(current_date(),7)) \\\n",
    "        .withColumn(\"Week Before\",date_sub(\"Current_Date\",7)) \\\n",
    "        .withColumn(\"Week Before Date Add\",date_add(\"Current_Date\",-7)) \\\n",
    "        .drop(\"Item_Weight\",\"Item_Fat_Content\") \\\n",
    "        .withColumn(\"Difference\",date_diff(col(\"Week After\"),col(\"Week Before\"))) \\\n",
    "        .withColumn(\"Format Change\",date_format(col(\"Current_Date\"),'dd/MM/yy')).display()"
   ]
  },
  {
   "cell_type": "markdown",
   "metadata": {
    "application/vnd.databricks.v1+cell": {
     "cellMetadata": {
      "byteLimit": 2048000,
      "rowLimit": 10000
     },
     "inputWidgets": {},
     "nuid": "470b6db5-ee6b-4366-8ade-e22d4b9c3c85",
     "showTitle": false,
     "tableResultSettingsMap": {},
     "title": ""
    }
   },
   "source": [
    "###HANDLING NULLS\n",
    "\n",
    "#####DROPPING NULL"
   ]
  },
  {
   "cell_type": "code",
   "execution_count": 0,
   "metadata": {
    "application/vnd.databricks.v1+cell": {
     "cellMetadata": {
      "byteLimit": 2048000,
      "rowLimit": 10000
     },
     "inputWidgets": {},
     "nuid": "6d120a6e-8f96-402f-8ee8-a5b9c346b71d",
     "showTitle": false,
     "tableResultSettingsMap": {},
     "title": ""
    }
   },
   "outputs": [],
   "source": [
    "df_string_data.dropna('all').display()\n",
    "df_string_data.dropna('any').display()\n",
    "df_string_data.dropna(subset=['Item_Weight']).display()"
   ]
  },
  {
   "cell_type": "markdown",
   "metadata": {
    "application/vnd.databricks.v1+cell": {
     "cellMetadata": {
      "byteLimit": 2048000,
      "rowLimit": 10000
     },
     "inputWidgets": {},
     "nuid": "19de706b-2cef-43ed-a83a-e3dc10a63bfd",
     "showTitle": false,
     "tableResultSettingsMap": {},
     "title": ""
    }
   },
   "source": [
    "### FILLING NULL"
   ]
  },
  {
   "cell_type": "code",
   "execution_count": 0,
   "metadata": {
    "application/vnd.databricks.v1+cell": {
     "cellMetadata": {
      "byteLimit": 2048000,
      "rowLimit": 10000
     },
     "inputWidgets": {},
     "nuid": "88036b6a-82c9-4eb0-94c6-5fa6b31b7a07",
     "showTitle": false,
     "tableResultSettingsMap": {},
     "title": ""
    }
   },
   "outputs": [],
   "source": [
    "df_csv_data.fillna(0).display()\n",
    "\n",
    "df_csv_data.fillna(\"Not Available\",subset=[\"Outlet_Size\"]).display()"
   ]
  },
  {
   "cell_type": "markdown",
   "metadata": {
    "application/vnd.databricks.v1+cell": {
     "cellMetadata": {
      "byteLimit": 2048000,
      "rowLimit": 10000
     },
     "inputWidgets": {},
     "nuid": "dad71238-a385-4cc6-8c25-af605b8f1ce1",
     "showTitle": false,
     "tableResultSettingsMap": {},
     "title": ""
    }
   },
   "source": [
    "##SPLIT AND INDEXING FUNCTIONS"
   ]
  },
  {
   "cell_type": "code",
   "execution_count": 0,
   "metadata": {
    "application/vnd.databricks.v1+cell": {
     "cellMetadata": {
      "byteLimit": 2048000,
      "rowLimit": 10000
     },
     "inputWidgets": {},
     "nuid": "8bdc492d-29aa-4294-b653-70f90dc30040",
     "showTitle": false,
     "tableResultSettingsMap": {},
     "title": ""
    }
   },
   "outputs": [],
   "source": [
    "df_csv_data.withColumn(\"Market Name\",split(col(\"Outlet_Type\"),' ')[0]) \\\n",
    "            .withColumn(\"Type\",split(col(\"Outlet_Type\"),' ')[1]) \\\n",
    "            .select(col(\"Outlet_Type\"),col(\"Market Name\"),col(\"Type\")) \\\n",
    "           .display()"
   ]
  },
  {
   "cell_type": "markdown",
   "metadata": {
    "application/vnd.databricks.v1+cell": {
     "cellMetadata": {
      "byteLimit": 2048000,
      "rowLimit": 10000
     },
     "inputWidgets": {},
     "nuid": "7a55e083-f9e7-490c-baec-0c77f62ebf8f",
     "showTitle": false,
     "tableResultSettingsMap": {},
     "title": ""
    }
   },
   "source": [
    "##EXPLODE"
   ]
  },
  {
   "cell_type": "code",
   "execution_count": 0,
   "metadata": {
    "application/vnd.databricks.v1+cell": {
     "cellMetadata": {
      "byteLimit": 2048000,
      "rowLimit": 10000
     },
     "inputWidgets": {},
     "nuid": "f5e9dec9-2189-4379-b60d-03e6ea4166f4",
     "showTitle": false,
     "tableResultSettingsMap": {},
     "title": ""
    }
   },
   "outputs": [],
   "source": [
    "df_exp = df_csv_data.withColumn(\"Market Name\",split(col(\"Outlet_Type\"),' ')) \\\n",
    "            .select(col(\"Market Name\"),col(\"Outlet_Type\")) \n",
    "df_exp.withColumn(\"New Explode\",explode(\"Market Name\")).display()\n"
   ]
  },
  {
   "cell_type": "markdown",
   "metadata": {
    "application/vnd.databricks.v1+cell": {
     "cellMetadata": {
      "byteLimit": 2048000,
      "rowLimit": 10000
     },
     "inputWidgets": {},
     "nuid": "3f32605f-58ba-44cb-ba39-c465e0a940fc",
     "showTitle": false,
     "tableResultSettingsMap": {},
     "title": ""
    }
   },
   "source": [
    "###Array_Contains - TO check if a value is in the array or not returns Boolean\n",
    "### Array_distinct - To distinct the vlaue in the array column "
   ]
  },
  {
   "cell_type": "code",
   "execution_count": 0,
   "metadata": {
    "application/vnd.databricks.v1+cell": {
     "cellMetadata": {
      "byteLimit": 2048000,
      "rowLimit": 10000
     },
     "inputWidgets": {},
     "nuid": "76495b4f-3ebb-420f-9a7e-6b49b64ae26c",
     "showTitle": false,
     "tableResultSettingsMap": {},
     "title": ""
    }
   },
   "outputs": [],
   "source": [
    "df_exp.withColumn(\"Type1_flag\",array_contains(col(\"Market Name\"),\"Type1\")).display()\n",
    "\n",
    "df_exp.withColumn(\"Type1_flag\",array_distinct(col(\"Market Name\"))).display()\n"
   ]
  },
  {
   "cell_type": "markdown",
   "metadata": {
    "application/vnd.databricks.v1+cell": {
     "cellMetadata": {
      "byteLimit": 2048000,
      "rowLimit": 10000
     },
     "inputWidgets": {},
     "nuid": "992c6ca5-fffb-4a88-aeaf-f4761567a7af",
     "showTitle": false,
     "tableResultSettingsMap": {},
     "title": ""
    }
   },
   "source": [
    "##GROUP_BY AND AGGREGRATE"
   ]
  },
  {
   "cell_type": "code",
   "execution_count": 0,
   "metadata": {
    "application/vnd.databricks.v1+cell": {
     "cellMetadata": {
      "byteLimit": 2048000,
      "rowLimit": 10000
     },
     "inputWidgets": {},
     "nuid": "bed600ff-36d4-411d-a398-e6d71a9d3865",
     "showTitle": false,
     "tableResultSettingsMap": {},
     "title": ""
    }
   },
   "outputs": [],
   "source": [
    "df_group=df_csv_data.fillna(0,subset=[\"Item_Weight\"]) \\\n",
    "        .fillna(\"None\",subset=[\"Outlet_Size\"]) \\\n",
    "        .select(col(\"Outlet_Size\"),col(\"Item_Weight\"),col(\"Item_Type\"),col(\"Item_MRP\"))\n",
    "\n",
    "df_group.groupBy(col(\"Item_Type\"),col(\"Outlet_Size\")).agg(sum(col(\"Item_Weight\")).alias(\"Sum\"),max(col(\"Item_Weight\")).alias(\"Max Item Weight\"),sum(col(\"Item_MRP\")).alias(\"Sum MRP\"),avg(col(\"Item_MRP\")).alias(\"Avg MRP\")).sort([col(\"Item_Type\"),col(\"Outlet_Size\")],ascending=[0,0]).display()"
   ]
  },
  {
   "cell_type": "markdown",
   "metadata": {
    "application/vnd.databricks.v1+cell": {
     "cellMetadata": {
      "byteLimit": 2048000,
      "rowLimit": 10000
     },
     "inputWidgets": {},
     "nuid": "746f0c99-4bb1-4e21-9fab-3803e0ebe5a3",
     "showTitle": false,
     "tableResultSettingsMap": {},
     "title": ""
    }
   },
   "source": [
    "##COLLECT_LIST - To group by values in single column"
   ]
  },
  {
   "cell_type": "code",
   "execution_count": 0,
   "metadata": {
    "application/vnd.databricks.v1+cell": {
     "cellMetadata": {
      "byteLimit": 2048000,
      "rowLimit": 10000
     },
     "inputWidgets": {},
     "nuid": "136ca2fc-47b4-4aa9-9ec0-f94e3786e577",
     "showTitle": false,
     "tableResultSettingsMap": {},
     "title": ""
    }
   },
   "outputs": [],
   "source": [
    "df_group.select(col(\"Outlet_Size\"),col(\"Item_Type\")).groupBy(col(\"Outlet_Size\")).agg(collect_list(\"Item_Type\")).display()"
   ]
  },
  {
   "cell_type": "code",
   "execution_count": 0,
   "metadata": {
    "application/vnd.databricks.v1+cell": {
     "cellMetadata": {
      "byteLimit": 2048000,
      "rowLimit": 10000
     },
     "inputWidgets": {},
     "nuid": "0021861c-a848-4738-9288-f7a1b2eb40b0",
     "showTitle": false,
     "tableResultSettingsMap": {},
     "title": ""
    }
   },
   "outputs": [],
   "source": [
    "data_collect=[('1','Computer'),\n",
    "      ('1','Laptop'),\n",
    "      ('2','Mobile'),\n",
    "      ('2','Tablet')]\n",
    "\n",
    "schema_collect='id string, Item string'\n",
    "\n",
    "df_collect=spark.createDataFrame(data_collect,schema_collect)\n",
    "\n",
    "df_collect.groupBy(col(\"id\")).agg(collect_list(\"Item\")).display()"
   ]
  },
  {
   "cell_type": "markdown",
   "metadata": {
    "application/vnd.databricks.v1+cell": {
     "cellMetadata": {
      "byteLimit": 2048000,
      "rowLimit": 10000
     },
     "inputWidgets": {},
     "nuid": "7493b327-a983-47f7-a620-16b7fc2172a5",
     "showTitle": false,
     "tableResultSettingsMap": {},
     "title": ""
    }
   },
   "source": [
    "###PIVOT"
   ]
  },
  {
   "cell_type": "code",
   "execution_count": 0,
   "metadata": {
    "application/vnd.databricks.v1+cell": {
     "cellMetadata": {
      "byteLimit": 2048000,
      "rowLimit": 10000
     },
     "inputWidgets": {},
     "nuid": "49bdd380-e49b-484d-b407-ef85f14b7c74",
     "showTitle": false,
     "tableResultSettingsMap": {},
     "title": ""
    }
   },
   "outputs": [],
   "source": [
    "df_pivot=df_csv_data.select(col(\"Item_Type\"),col(\"Outlet_Size\"),col(\"Item_MRP\"))\n",
    "df_pivot.groupBy(\"Item_Type\").pivot(\"Outlet_Size\").agg(sum(\"Item_MRP\")).display()"
   ]
  },
  {
   "cell_type": "markdown",
   "metadata": {
    "application/vnd.databricks.v1+cell": {
     "cellMetadata": {
      "byteLimit": 2048000,
      "rowLimit": 10000
     },
     "inputWidgets": {},
     "nuid": "f7476afa-11cb-479f-9775-7d4210461141",
     "showTitle": false,
     "tableResultSettingsMap": {},
     "title": ""
    }
   },
   "source": [
    "###WHEN OTHERWISE ..."
   ]
  },
  {
   "cell_type": "markdown",
   "metadata": {
    "application/vnd.databricks.v1+cell": {
     "cellMetadata": {
      "byteLimit": 2048000,
      "rowLimit": 10000
     },
     "inputWidgets": {},
     "nuid": "cb74cb99-e818-4f04-8cc4-55a7a6bf9a9f",
     "showTitle": false,
     "tableResultSettingsMap": {},
     "title": ""
    }
   },
   "source": [
    "####Scenario 1"
   ]
  },
  {
   "cell_type": "code",
   "execution_count": 0,
   "metadata": {
    "application/vnd.databricks.v1+cell": {
     "cellMetadata": {
      "byteLimit": 2048000,
      "rowLimit": 10000
     },
     "inputWidgets": {},
     "nuid": "85fa688a-ed8f-4109-9a7c-157ebbb49be8",
     "showTitle": false,
     "tableResultSettingsMap": {},
     "title": ""
    }
   },
   "outputs": [],
   "source": [
    "\n",
    "df_csv_data.select(col(\"Item_Type\")).withColumn(\"Type\",when(col(\"Item_type\")==\"Meat\",\"Non-Veg\").otherwise(\"Veg\")).display()\n",
    "\n",
    "#df_csv_data.select(col(\"Item_Type\")).withColumn(\"Type\",regexp_replace(col(\"Item_Type\"),\"Meat\",\"Non-Veg\")).display()\n"
   ]
  },
  {
   "cell_type": "markdown",
   "metadata": {
    "application/vnd.databricks.v1+cell": {
     "cellMetadata": {
      "byteLimit": 2048000,
      "rowLimit": 10000
     },
     "inputWidgets": {},
     "nuid": "1d48fea7-2dcf-498b-a48a-203eb1d43049",
     "showTitle": false,
     "tableResultSettingsMap": {},
     "title": ""
    }
   },
   "source": [
    "####Scenario 2"
   ]
  },
  {
   "cell_type": "code",
   "execution_count": 0,
   "metadata": {
    "application/vnd.databricks.v1+cell": {
     "cellMetadata": {
      "byteLimit": 2048000,
      "rowLimit": 10000
     },
     "inputWidgets": {},
     "nuid": "676f94d8-31eb-474b-9814-737a8cf5ed72",
     "showTitle": false,
     "tableResultSettingsMap": {},
     "title": ""
    }
   },
   "outputs": [],
   "source": [
    "df_csv_data.select(col(\"Item_Type\"),col(\"Item_MRP\")) \\\n",
    "        .withColumn(\"Expensive\",when((col(\"Item_Type\")==\"Meat\"),\"Non-Veg\") \\\n",
    "        .when((col(\"Item_Type\")!=\"Meat\") &(col(\"Item_MRP\")>100),\"Veg Expensive\").otherwise(\"Veg In-Expensive\")).display()"
   ]
  },
  {
   "cell_type": "markdown",
   "metadata": {
    "application/vnd.databricks.v1+cell": {
     "cellMetadata": {
      "byteLimit": 2048000,
      "rowLimit": 10000
     },
     "inputWidgets": {},
     "nuid": "6faab3b6-ac91-43ee-b14a-dbd031d2bf1c",
     "showTitle": false,
     "tableResultSettingsMap": {},
     "title": ""
    }
   },
   "source": [
    "##JOINS"
   ]
  },
  {
   "cell_type": "markdown",
   "metadata": {
    "application/vnd.databricks.v1+cell": {
     "cellMetadata": {
      "byteLimit": 2048000,
      "rowLimit": 10000
     },
     "inputWidgets": {},
     "nuid": "c856b84a-24f9-44cc-89d5-11a808540fa8",
     "showTitle": false,
     "tableResultSettingsMap": {},
     "title": ""
    }
   },
   "source": [
    "###INNER JOINS"
   ]
  },
  {
   "cell_type": "code",
   "execution_count": 0,
   "metadata": {
    "application/vnd.databricks.v1+cell": {
     "cellMetadata": {
      "byteLimit": 2048000,
      "rowLimit": 10000
     },
     "inputWidgets": {},
     "nuid": "a5ffa20c-ec07-4b3d-b101-5515636330fc",
     "showTitle": false,
     "tableResultSettingsMap": {},
     "title": ""
    }
   },
   "outputs": [],
   "source": [
    "data1=[(\"1\",\"Sam\",\"d1\"),\n",
    "       (\"2\",\"Tom\",\"d2\"),\n",
    "       (\"3\",\"Jerry\",\"d3\"),\n",
    "       (\"4\",\"Peter\",\"d1\"),\n",
    "       (\"5\",\"Tim\",\"d6\")]\n",
    "\n",
    "schema1='id string,name string, dept string'\n",
    "\n",
    "set1=spark.createDataFrame(data1,schema1)\n",
    "\n",
    "data2=[(\"Accounts\",\"d1\"),\n",
    "       (\"IT\",\"d2\"),\n",
    "       (\"Hr\",\"d3\"),\n",
    "       (\"Clerk\",\"d4\")]\n",
    "\n",
    "schema2='Dept_Name string, dept_id string'\n",
    "\n",
    "set2=spark.createDataFrame(data2,schema2)\n",
    "\n",
    "set1.join(set2,set1[\"dept\"]==set2[\"dept_id\"]).select(col(\"name\"),col(\"dept\"),col(\"Dept_Name\")).display()\n",
    "\n"
   ]
  },
  {
   "cell_type": "markdown",
   "metadata": {
    "application/vnd.databricks.v1+cell": {
     "cellMetadata": {
      "byteLimit": 2048000,
      "rowLimit": 10000
     },
     "inputWidgets": {},
     "nuid": "63cdc996-c471-46d6-9ea4-73bfff9740e7",
     "showTitle": false,
     "tableResultSettingsMap": {},
     "title": ""
    }
   },
   "source": [
    "###LEFT, RIGHT, OUTER AND ANTI JOIN"
   ]
  },
  {
   "cell_type": "code",
   "execution_count": 0,
   "metadata": {
    "application/vnd.databricks.v1+cell": {
     "cellMetadata": {
      "byteLimit": 2048000,
      "rowLimit": 10000
     },
     "inputWidgets": {},
     "nuid": "af56d702-ce19-4265-9a5b-239c2678643a",
     "showTitle": false,
     "tableResultSettingsMap": {},
     "title": ""
    }
   },
   "outputs": [],
   "source": [
    "set1.join(set2,set1[\"dept\"]==set2[\"dept_id\"],\"left\").display()  # LEFT JOIN\n",
    "# set1.join(set2,set1.dept==set2.dept_id,\"left\").display()  # LEFT JOIN ANOTHER WAY FOR KEYS \n",
    "\n",
    "\n",
    "set1.join(set2,set1[\"dept\"]==set2[\"dept_id\"],\"right\").display() # RIGHT JOIN\n",
    "\n",
    "\n",
    "set1.join(set2,set1[\"dept\"]==set2[\"dept_id\"],\"outer\").display() # OUTER JOIN\n",
    "\n",
    "\n",
    "set2.join(set1,set1[\"dept\"]==set2[\"dept_id\"],\"anti\").display() # ANTI JOIN\n",
    "\n"
   ]
  },
  {
   "cell_type": "markdown",
   "metadata": {
    "application/vnd.databricks.v1+cell": {
     "cellMetadata": {
      "byteLimit": 2048000,
      "rowLimit": 10000
     },
     "inputWidgets": {},
     "nuid": "581db7ed-123c-4924-89a7-bd35b1ebe350",
     "showTitle": false,
     "tableResultSettingsMap": {},
     "title": ""
    }
   },
   "source": [
    "##WINDOW FUNCTIONS "
   ]
  },
  {
   "cell_type": "markdown",
   "metadata": {
    "application/vnd.databricks.v1+cell": {
     "cellMetadata": {
      "byteLimit": 2048000,
      "rowLimit": 10000
     },
     "inputWidgets": {},
     "nuid": "02a8fd07-05f1-403c-98d2-d10413e413db",
     "showTitle": false,
     "tableResultSettingsMap": {},
     "title": ""
    }
   },
   "source": [
    "###ROW_NUMBER"
   ]
  },
  {
   "cell_type": "code",
   "execution_count": 0,
   "metadata": {
    "application/vnd.databricks.v1+cell": {
     "cellMetadata": {
      "byteLimit": 2048000,
      "rowLimit": 10000
     },
     "inputWidgets": {},
     "nuid": "db972aa5-f236-4e87-95fe-3fc74771b7a3",
     "showTitle": false,
     "tableResultSettingsMap": {},
     "title": ""
    }
   },
   "outputs": [],
   "source": [
    "from pyspark.sql.window import Window\n",
    "\n",
    "df_csv_data.withColumn(\"ROW_ID\",row_number().over(Window.orderBy(\"Item_Identifier\"))).display()\n",
    "\n",
    "df_csv_data.withColumn(\"ROW_ID\",row_number().over(Window.partitionBy(\"Item_Identifier\").orderBy(\"Item_Identifier\"))).display()\n"
   ]
  },
  {
   "cell_type": "markdown",
   "metadata": {
    "application/vnd.databricks.v1+cell": {
     "cellMetadata": {
      "byteLimit": 2048000,
      "rowLimit": 10000
     },
     "inputWidgets": {},
     "nuid": "2d919da0-b9a6-421d-87e4-d21737758e1a",
     "showTitle": false,
     "tableResultSettingsMap": {},
     "title": ""
    }
   },
   "source": [
    "###RANK AND DENSE_RANK"
   ]
  },
  {
   "cell_type": "code",
   "execution_count": 0,
   "metadata": {
    "application/vnd.databricks.v1+cell": {
     "cellMetadata": {
      "byteLimit": 2048000,
      "rowLimit": 10000
     },
     "inputWidgets": {},
     "nuid": "3d73d067-45c9-43e2-9754-41902fe6ecc8",
     "showTitle": false,
     "tableResultSettingsMap": {},
     "title": ""
    }
   },
   "outputs": [],
   "source": [
    "from pyspark.sql.window import Window\n",
    "\n",
    "df_csv_data.select(col(\"Item_Identifier\")) \\\n",
    "    .withColumn(\"Rank\",rank().over(Window.orderBy(\"Item_Identifier\"))) \\\n",
    "    .withColumn(\"DENSE_RANK\",dense_rank().over(Window.orderBy(\"Item_Identifier\"))) \\\n",
    "    .withColumn(\"ROW_NUM\",row_number().over(Window.orderBy(\"Item_Identifier\"))) \\\n",
    "    .withColumn(\"Row_number_Part\",row_number().over(Window.partitionBy(\"Item_identifier\").orderBy(\"Item_identifier\"))) \\\n",
    "    .display()"
   ]
  },
  {
   "cell_type": "markdown",
   "metadata": {
    "application/vnd.databricks.v1+cell": {
     "cellMetadata": {
      "byteLimit": 2048000,
      "rowLimit": 10000
     },
     "inputWidgets": {},
     "nuid": "90db2f90-f3fa-4de2-b4ba-2b36d9ad1eae",
     "showTitle": false,
     "tableResultSettingsMap": {},
     "title": ""
    }
   },
   "source": [
    "###CUMULATIVE SUM"
   ]
  },
  {
   "cell_type": "code",
   "execution_count": 0,
   "metadata": {
    "application/vnd.databricks.v1+cell": {
     "cellMetadata": {
      "byteLimit": 2048000,
      "rowLimit": 10000
     },
     "inputWidgets": {},
     "nuid": "4575efac-2c42-4178-b49b-0e58a82e5c0d",
     "showTitle": false,
     "tableResultSettingsMap": {},
     "title": ""
    }
   },
   "outputs": [],
   "source": [
    "df_csv_data.select(col(\"Item_Type\"),col(\"Item_MRP\")) \\\n",
    "    .withColumn(\"CUM_SUM\",sum(\"Item_MRP\").over(Window.orderBy(\"Item_Type\").rowsBetween(Window.unboundedPreceding,Window.currentRow))) \\\n",
    "    .withColumn(\"Cum_sum_part\",sum(\"Item_MRP\").over(Window.orderBy(\"Item_Type\").partitionBy(\"Item_Type\").rowsBetween(Window.unboundedPreceding,Window.currentRow))) \\\n",
    "    .display()"
   ]
  },
  {
   "cell_type": "markdown",
   "metadata": {
    "application/vnd.databricks.v1+cell": {
     "cellMetadata": {
      "byteLimit": 2048000,
      "rowLimit": 10000
     },
     "inputWidgets": {},
     "nuid": "57b331de-b28a-4a29-bea9-6c0915865069",
     "showTitle": false,
     "tableResultSettingsMap": {},
     "title": ""
    }
   },
   "source": [
    "## USER DEFINED FUNCTIONS (UDF)"
   ]
  },
  {
   "cell_type": "markdown",
   "metadata": {
    "application/vnd.databricks.v1+cell": {
     "cellMetadata": {
      "byteLimit": 2048000,
      "rowLimit": 10000
     },
     "inputWidgets": {},
     "nuid": "f779d038-fd12-4d9c-85cb-c8089065319f",
     "showTitle": false,
     "tableResultSettingsMap": {},
     "title": ""
    }
   },
   "source": [
    "###STEP-1"
   ]
  },
  {
   "cell_type": "code",
   "execution_count": 0,
   "metadata": {
    "application/vnd.databricks.v1+cell": {
     "cellMetadata": {
      "byteLimit": 2048000,
      "rowLimit": 10000
     },
     "inputWidgets": {},
     "nuid": "02300df9-5700-4a2b-ad15-3221ae210bc8",
     "showTitle": false,
     "tableResultSettingsMap": {},
     "title": ""
    }
   },
   "outputs": [],
   "source": [
    "def my_func(x):\n",
    "  return x*x"
   ]
  },
  {
   "cell_type": "markdown",
   "metadata": {
    "application/vnd.databricks.v1+cell": {
     "cellMetadata": {
      "byteLimit": 2048000,
      "rowLimit": 10000
     },
     "inputWidgets": {},
     "nuid": "dc2dff57-906f-4f99-81dd-3e016f7adfdc",
     "showTitle": false,
     "tableResultSettingsMap": {},
     "title": ""
    }
   },
   "source": [
    "###STEP-2 "
   ]
  },
  {
   "cell_type": "code",
   "execution_count": 0,
   "metadata": {
    "application/vnd.databricks.v1+cell": {
     "cellMetadata": {
      "byteLimit": 2048000,
      "rowLimit": 10000
     },
     "inputWidgets": {},
     "nuid": "a18d2298-524b-471a-9d54-7c1f82c7de9a",
     "showTitle": false,
     "tableResultSettingsMap": {},
     "title": ""
    }
   },
   "outputs": [],
   "source": [
    "my_udf=udf(my_func)"
   ]
  },
  {
   "cell_type": "code",
   "execution_count": 0,
   "metadata": {
    "application/vnd.databricks.v1+cell": {
     "cellMetadata": {
      "byteLimit": 2048000,
      "rowLimit": 10000
     },
     "inputWidgets": {},
     "nuid": "cf61295d-e6d3-48de-a894-56da980ab947",
     "showTitle": false,
     "tableResultSettingsMap": {},
     "title": ""
    }
   },
   "outputs": [],
   "source": [
    "df_csv_data.withColumn(\"Square\",my_udf(col(\"Item_MRP\"))).display()"
   ]
  },
  {
   "cell_type": "markdown",
   "metadata": {
    "application/vnd.databricks.v1+cell": {
     "cellMetadata": {},
     "inputWidgets": {},
     "nuid": "f34fff1c-cc3e-46d9-895c-0417317a7c55",
     "showTitle": false,
     "tableResultSettingsMap": {},
     "title": ""
    }
   },
   "source": [
    "#DATA_WRITING"
   ]
  },
  {
   "cell_type": "markdown",
   "metadata": {
    "application/vnd.databricks.v1+cell": {
     "cellMetadata": {},
     "inputWidgets": {},
     "nuid": "da12730a-b686-4d18-b328-57093e82d9d5",
     "showTitle": false,
     "tableResultSettingsMap": {},
     "title": ""
    }
   },
   "source": [
    "##CSV with Writing Modes"
   ]
  },
  {
   "cell_type": "code",
   "execution_count": 0,
   "metadata": {
    "application/vnd.databricks.v1+cell": {
     "cellMetadata": {
      "byteLimit": 2048000,
      "rowLimit": 10000
     },
     "inputWidgets": {},
     "nuid": "d35781ce-cdb3-4660-af60-4d359d8b6c8e",
     "showTitle": false,
     "tableResultSettingsMap": {},
     "title": ""
    }
   },
   "outputs": [],
   "source": [
    "data1=[(\"1\",\"Sam\",\"d1\"),\n",
    "       (\"2\",\"Tom\",\"d2\"),\n",
    "       (\"3\",\"Jerry\",\"d3\"),\n",
    "       (\"4\",\"Peter\",\"d1\"),\n",
    "       (\"5\",\"Tim\",\"d6\")]\n",
    "\n",
    "schema1='id string,name string, dept string'\n",
    "\n",
    "data_csv=spark.createDataFrame(data1,schema1)\n"
   ]
  },
  {
   "cell_type": "code",
   "execution_count": 0,
   "metadata": {
    "application/vnd.databricks.v1+cell": {
     "cellMetadata": {
      "byteLimit": 2048000,
      "rowLimit": 10000
     },
     "inputWidgets": {},
     "nuid": "721ced4d-44fd-4f4f-9865-c5fbb9575d41",
     "showTitle": false,
     "tableResultSettingsMap": {},
     "title": ""
    }
   },
   "outputs": [],
   "source": [
    "dbutils.fs.rm('/FileStore/tables/data.csv',recurse=True)"
   ]
  },
  {
   "cell_type": "code",
   "execution_count": 0,
   "metadata": {
    "application/vnd.databricks.v1+cell": {
     "cellMetadata": {
      "byteLimit": 2048000,
      "rowLimit": 10000
     },
     "inputWidgets": {},
     "nuid": "2ec5215f-b199-4720-8c54-e0e329ff98d5",
     "showTitle": false,
     "tableResultSettingsMap": {},
     "title": ""
    }
   },
   "outputs": [],
   "source": [
    "data_csv.write.format('csv')\\\n",
    "  .option(\"header\",True)\\\n",
    "  .mode(\"error\")\\\n",
    "  .save('/FileStore/tables/data.csv')\n",
    "# .option('path','/FileStore/tables/data.csv').save() THis is also the option to save the file. \n",
    "\n",
    "spark.read.format('csv')\\\n",
    ".option(\"header\",True)\\\n",
    ".option(\"inferSchema\",True)\\\n",
    ".load('/FileStore/tables/data.csv').display()"
   ]
  },
  {
   "cell_type": "markdown",
   "metadata": {
    "application/vnd.databricks.v1+cell": {
     "cellMetadata": {},
     "inputWidgets": {},
     "nuid": "3aac7a55-7f6c-4728-8cf8-fd4465c0e908",
     "showTitle": false,
     "tableResultSettingsMap": {},
     "title": ""
    }
   },
   "source": [
    "###Overwrite Method"
   ]
  },
  {
   "cell_type": "code",
   "execution_count": 0,
   "metadata": {
    "application/vnd.databricks.v1+cell": {
     "cellMetadata": {
      "byteLimit": 2048000,
      "rowLimit": 10000
     },
     "inputWidgets": {},
     "nuid": "033a5bf0-0f34-4268-82d9-75560c2718c8",
     "showTitle": false,
     "tableResultSettingsMap": {},
     "title": ""
    }
   },
   "outputs": [],
   "source": [
    "data_csv.write.format('csv')\\\n",
    "  .option(\"header\",True)\\\n",
    "  .mode(\"overwrite\")\\\n",
    "  .save('FileStore/tables/data.csv')\n",
    "\n",
    "spark.read.format('csv')\\\n",
    ".option(\"header\",True)\\\n",
    ".option(\"inferSchema\",True)\\\n",
    ".load('/FileStore/tables/data.csv').display()\n"
   ]
  },
  {
   "cell_type": "markdown",
   "metadata": {
    "application/vnd.databricks.v1+cell": {
     "cellMetadata": {},
     "inputWidgets": {},
     "nuid": "c8bbd53c-91e0-4d89-8b5c-43e45d00a10b",
     "showTitle": false,
     "tableResultSettingsMap": {},
     "title": ""
    }
   },
   "source": [
    "###APPEND MODE"
   ]
  },
  {
   "cell_type": "code",
   "execution_count": 0,
   "metadata": {
    "application/vnd.databricks.v1+cell": {
     "cellMetadata": {
      "byteLimit": 2048000,
      "rowLimit": 10000
     },
     "inputWidgets": {},
     "nuid": "9d39bec7-4285-46ea-801b-e4a46aeea7e3",
     "showTitle": false,
     "tableResultSettingsMap": {},
     "title": ""
    }
   },
   "outputs": [],
   "source": [
    "data_csv.write.format('csv')\\\n",
    "  .option(\"header\",True)\\\n",
    "  .mode(\"append\")\\\n",
    "  .save('FileStore/tables/data.csv')\n",
    "\n",
    "spark.read.format('csv')\\\n",
    ".option(\"header\",True)\\\n",
    ".option(\"inferSchema\",True)\\\n",
    ".load('/FileStore/tables/data.csv').display()\n"
   ]
  },
  {
   "cell_type": "markdown",
   "metadata": {
    "application/vnd.databricks.v1+cell": {
     "cellMetadata": {},
     "inputWidgets": {},
     "nuid": "9435c02f-ee2b-4fd3-a540-9123a26ced83",
     "showTitle": false,
     "tableResultSettingsMap": {},
     "title": ""
    }
   },
   "source": [
    "###IGNORE MODE"
   ]
  },
  {
   "cell_type": "code",
   "execution_count": 0,
   "metadata": {
    "application/vnd.databricks.v1+cell": {
     "cellMetadata": {
      "byteLimit": 2048000,
      "rowLimit": 10000
     },
     "inputWidgets": {},
     "nuid": "de6d3e30-cfe5-40dd-89a9-2da6411ef132",
     "showTitle": false,
     "tableResultSettingsMap": {},
     "title": ""
    }
   },
   "outputs": [],
   "source": [
    "data_csv.write.format('csv')\\\n",
    "  .option(\"header\",True)\\\n",
    "  .mode(\"ignore\")\\\n",
    "  .save('FileStore/tables/data.csv')\n",
    "\n",
    "spark.read.format('csv')\\\n",
    ".option(\"header\",True)\\\n",
    ".option(\"inferSchema\",True)\\\n",
    ".load('/FileStore/tables/data.csv').display()\n"
   ]
  },
  {
   "cell_type": "markdown",
   "metadata": {
    "application/vnd.databricks.v1+cell": {
     "cellMetadata": {},
     "inputWidgets": {},
     "nuid": "7c6f6f49-d1da-4c6e-ab63-009bdad741dc",
     "showTitle": false,
     "tableResultSettingsMap": {},
     "title": ""
    }
   },
   "source": [
    "###PARQUET FILE FORMAT"
   ]
  },
  {
   "cell_type": "code",
   "execution_count": 0,
   "metadata": {
    "application/vnd.databricks.v1+cell": {
     "cellMetadata": {
      "byteLimit": 2048000,
      "rowLimit": 10000
     },
     "inputWidgets": {},
     "nuid": "5873e54d-5558-423f-a1ab-e86faa2bb337",
     "showTitle": false,
     "tableResultSettingsMap": {},
     "title": ""
    }
   },
   "outputs": [],
   "source": [
    "data_csv.write.format('parquet')\\\n",
    "  .option(\"header\",True)\\\n",
    "  .mode(\"overwrite\")\\\n",
    "  .save('FileStore/tables/data.csv')\n",
    "\n",
    "spark.read.format('parquet')\\\n",
    ".option(\"header\",True)\\\n",
    ".option(\"inferSchema\",True)\\\n",
    ".load('/FileStore/tables/data.csv').display()"
   ]
  },
  {
   "cell_type": "markdown",
   "metadata": {
    "application/vnd.databricks.v1+cell": {
     "cellMetadata": {},
     "inputWidgets": {},
     "nuid": "0a0ac776-d815-4ed3-abd5-caf382bb46ef",
     "showTitle": false,
     "tableResultSettingsMap": {},
     "title": ""
    }
   },
   "source": [
    "###DELTA FILE FORMAT -Delta table"
   ]
  },
  {
   "cell_type": "code",
   "execution_count": 0,
   "metadata": {
    "application/vnd.databricks.v1+cell": {
     "cellMetadata": {
      "byteLimit": 2048000,
      "rowLimit": 10000
     },
     "inputWidgets": {},
     "nuid": "7e64f4f4-3dff-41d9-8d6b-f32f54ff38af",
     "showTitle": false,
     "tableResultSettingsMap": {},
     "title": ""
    }
   },
   "outputs": [],
   "source": [
    "data_csv.write.format('delta')\\\n",
    "  .option(\"header\",True)\\\n",
    "  .mode(\"overwrite\")\\\n",
    "  .save('/FileStore/tables/data')\n",
    "\n",
    "spark.read.format('delta')\\\n",
    ".option(\"header\",True)\\\n",
    ".option(\"inferSchema\",True)\\\n",
    ".load('/FileStore/tables/data').display()"
   ]
  },
  {
   "cell_type": "markdown",
   "metadata": {
    "application/vnd.databricks.v1+cell": {
     "cellMetadata": {},
     "inputWidgets": {},
     "nuid": "831892d8-fa36-45f5-8b0c-2ccaf2c6f3fb",
     "showTitle": false,
     "tableResultSettingsMap": {},
     "title": ""
    }
   },
   "source": [
    "### SAVE TABLE\n",
    "####This command will save the table in Warehouse, since the format is not Delta it wont support Delta logs"
   ]
  },
  {
   "cell_type": "code",
   "execution_count": 0,
   "metadata": {
    "application/vnd.databricks.v1+cell": {
     "cellMetadata": {
      "byteLimit": 2048000,
      "rowLimit": 10000
     },
     "inputWidgets": {},
     "nuid": "21a75180-1d13-4805-aeb8-48ecf4ce99af",
     "showTitle": false,
     "tableResultSettingsMap": {},
     "title": ""
    }
   },
   "outputs": [],
   "source": [
    "data_csv.write.format('parquet')\\\n",
    "  .option(\"header\",True)\\\n",
    "  .saveAsTable('Table1')"
   ]
  },
  {
   "cell_type": "markdown",
   "metadata": {
    "application/vnd.databricks.v1+cell": {
     "cellMetadata": {},
     "inputWidgets": {},
     "nuid": "918b0501-c330-41e2-918e-46c0ef00d6a5",
     "showTitle": false,
     "tableResultSettingsMap": {},
     "title": ""
    }
   },
   "source": [
    "##SPARK SQL"
   ]
  },
  {
   "cell_type": "markdown",
   "metadata": {
    "application/vnd.databricks.v1+cell": {
     "cellMetadata": {},
     "inputWidgets": {},
     "nuid": "3cf69cbc-9555-48d0-afc5-d175018c5610",
     "showTitle": false,
     "tableResultSettingsMap": {},
     "title": ""
    }
   },
   "source": [
    "###Create View "
   ]
  },
  {
   "cell_type": "code",
   "execution_count": 0,
   "metadata": {
    "application/vnd.databricks.v1+cell": {
     "cellMetadata": {
      "byteLimit": 2048000,
      "implicitDf": true,
      "rowLimit": 10000
     },
     "inputWidgets": {},
     "nuid": "eba4806b-656e-4929-b421-9fa558c965bd",
     "showTitle": false,
     "tableResultSettingsMap": {},
     "title": ""
    }
   },
   "outputs": [],
   "source": [
    "data_csv.createOrReplaceTempView(\"Testing\")\n",
    "\n",
    "spark.sql(\"Select * from Testing\").display()"
   ]
  },
  {
   "cell_type": "code",
   "execution_count": 0,
   "metadata": {
    "application/vnd.databricks.v1+cell": {
     "cellMetadata": {
      "byteLimit": 2048000,
      "implicitDf": true,
      "rowLimit": 10000
     },
     "inputWidgets": {},
     "nuid": "25d77ff6-61a9-4782-8a14-0f64e904d8c4",
     "showTitle": false,
     "tableResultSettingsMap": {},
     "title": ""
    }
   },
   "outputs": [],
   "source": [
    "%sql\n",
    "Select * from Testing"
   ]
  },
  {
   "cell_type": "code",
   "execution_count": 0,
   "metadata": {
    "application/vnd.databricks.v1+cell": {
     "cellMetadata": {},
     "inputWidgets": {},
     "nuid": "ec57cced-bd3b-4d53-bd92-8f7a8c40f7cf",
     "showTitle": false,
     "tableResultSettingsMap": {},
     "title": ""
    }
   },
   "outputs": [],
   "source": []
  }
 ],
 "metadata": {
  "application/vnd.databricks.v1+notebook": {
   "computePreferences": null,
   "dashboards": [],
   "environmentMetadata": {
    "base_environment": "",
    "environment_version": "2"
   },
   "language": "python",
   "notebookMetadata": {
    "mostRecentlyExecutedCommandWithImplicitDF": {
     "commandId": 929035963971472,
     "dataframes": [
      "_sqldf"
     ]
    },
    "pythonIndentUnit": 4
   },
   "notebookName": "1. Learning Basic commands",
   "widgets": {}
  },
  "language_info": {
   "name": "python"
  }
 },
 "nbformat": 4,
 "nbformat_minor": 0
}
